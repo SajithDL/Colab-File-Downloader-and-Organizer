# Import necessary libraries
import os
from google.colab import drive

# User-editable variables
DOWNLOAD_LINK = 'https://sagadb.org/files/zip/sagadb_tools.zip'  # Replace with your download link
ZIP_FILE_NAME = 'testDownload.zip'  # Name for the downloaded ZIP file
TARGET_DIR = '/content/drive/My Drive/Colab Notebooks/Root'  # Path to your target directory

# Mount Google Drive
drive.mount('/content/drive')

# Download the ZIP file
!wget {DOWNLOAD_LINK} -O /content/{ZIP_FILE_NAME}

# Unzip the file in a temporary directory in the local Colab environment
!mkdir /content/temp_unzip
!unzip /content/{ZIP_FILE_NAME} -d /content/temp_unzip

# Create the target directory in Google Drive if it doesn't exist
if not os.path.exists(TARGET_DIR):
    os.makedirs(TARGET_DIR)

# Move the files
!mv /content/temp_unzip/* "{TARGET_DIR}"
# Clean up (optional)
!rm -rf /content/temp_unzip
!rm /content/{ZIP_FILE_NAME}
